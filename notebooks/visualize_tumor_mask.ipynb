{
 "cells": [
  {
   "cell_type": "code",
   "execution_count": 9,
   "id": "b2fcc342",
   "metadata": {},
   "outputs": [
    {
     "name": "stdout",
     "output_type": "stream",
     "text": [
      "Number of frames in segmentation DICOM: 24\n",
      "Shape of segmentation mask: (24, 512, 512)\n",
      "Referenced Series UID: 1801040320200103051513090319.1685.1.0\n"
     ]
    },
    {
     "data": {
      "image/png": "[encoded data removed]",
      "text/plain": [
       "<Figure size 640x480 with 1 Axes>"
      ]
     },
     "metadata": {},
     "output_type": "display_data"
    }
   ],
   "source": [
    "import pydicom\n",
    "import highdicom\n",
    "from highdicom.seg import Segmentation\n",
    "import numpy as np\n",
    "import matplotlib.pyplot as plt\n",
    "\n",
    "# Load the DICOM SEG file\n",
    "ds = pydicom.dcmread('../data/RadCTTACEomics_1685/1685/10_AP_Ax2.50mm_ManualROI_Tumor.dcm')\n",
    "#ds = pydicom.dcmread('../data/RadCTTACEomics_1685/1685/10_AP_Ax2.50mm_ManualROI_Liver.dcm')\n",
    "\n",
    "# use '../data/RadCTTACEomics_1685/1685/10_AP_Ax2.50mm/' and it's segmentation '../data/RadCTTACEomics_1685/1685/10_AP_Ax2.50mm_ManualROI_Tumor.dcm'\n",
    "\n",
    "# Access pixel data\n",
    "# This is typically a binary or label image stored as uint8\n",
    "seg_mask = ds.pixel_array  # shape: (num_frames, rows, cols)\n",
    "\n",
    "# Check the number of frames in the segmentation DICOM file\n",
    "print(\"Number of frames in segmentation DICOM:\", ds.NumberOfFrames)\n",
    "\n",
    "# Check the dimensions of the segmentation mask\n",
    "print(\"Shape of segmentation mask:\", seg_mask.shape)\n",
    "\n",
    "# Check the referenced series information to understand the relationship with the original DICOM\n",
    "if hasattr(ds, 'ReferencedSeriesSequence'):\n",
    "    print(\"Referenced Series UID:\", ds.ReferencedSeriesSequence[0].SeriesInstanceUID)\n",
    "\n",
    "# Visualize middle slice\n",
    "middle_slice = seg_mask[seg_mask.shape[0] // 2]\n",
    "seg_mask.shape\n",
    "plt.imshow(middle_slice, cmap='gray')\n",
    "plt.title('Segmentation Slice (raw pixel values)')\n",
    "plt.axis('off')\n",
    "plt.show()\n"
   ]
  },
  {
   "cell_type": "code",
   "execution_count": 43,
   "id": "1f33e640",
   "metadata": {},
   "outputs": [
    {
     "data": {
      "text/plain": [
       "['PurposeOfReferenceCodeSequence',\n",
       " 'ReferencedFrameNumber',\n",
       " 'ReferencedSOPClassUID',\n",
       " 'ReferencedSOPInstanceUID',\n",
       " 'SpatialLocationsPreserved',\n",
       " '__array__',\n",
       " '__class__',\n",
       " '__contains__',\n",
       " '__delattr__',\n",
       " '__delitem__',\n",
       " '__dict__',\n",
       " '__dir__',\n",
       " '__doc__',\n",
       " '__enter__',\n",
       " '__eq__',\n",
       " '__exit__',\n",
       " '__format__',\n",
       " '__ge__',\n",
       " '__getattr__',\n",
       " '__getattribute__',\n",
       " '__getitem__',\n",
       " '__getstate__',\n",
       " '__gt__',\n",
       " '__hash__',\n",
       " '__init__',\n",
       " '__init_subclass__',\n",
       " '__iter__',\n",
       " '__le__',\n",
       " '__len__',\n",
       " '__lt__',\n",
       " '__module__',\n",
       " '__ne__',\n",
       " '__new__',\n",
       " '__reduce__',\n",
       " '__reduce_ex__',\n",
       " '__repr__',\n",
       " '__setattr__',\n",
       " '__setitem__',\n",
       " '__sizeof__',\n",
       " '__str__',\n",
       " '__subclasshook__',\n",
       " '__weakref__',\n",
       " '_character_set',\n",
       " '_convert_pixel_data_using_handler',\n",
       " '_convert_pixel_data_without_handler',\n",
       " '_dataset_slice',\n",
       " '_dict',\n",
       " '_do_pixel_data_conversion',\n",
       " '_is_implicit_VR',\n",
       " '_is_little_endian',\n",
       " '_parent_encoding',\n",
       " '_pixel_array',\n",
       " '_pixel_array_opts',\n",
       " '_pixel_id',\n",
       " '_pixel_rep',\n",
       " '_pretty_str',\n",
       " '_private_blocks',\n",
       " '_read_charset',\n",
       " '_read_implicit',\n",
       " '_read_little',\n",
       " '_set_file_meta',\n",
       " '_set_pixel_representation',\n",
       " '_slice_dataset',\n",
       " 'add',\n",
       " 'add_new',\n",
       " 'add_new_private',\n",
       " 'clear',\n",
       " 'compress',\n",
       " 'convert_pixel_data',\n",
       " 'copy',\n",
       " 'data_element',\n",
       " 'decode',\n",
       " 'decompress',\n",
       " 'default_element_format',\n",
       " 'default_sequence_element_format',\n",
       " 'dir',\n",
       " 'elements',\n",
       " 'ensure_file_meta',\n",
       " 'file_tell',\n",
       " 'formatted_lines',\n",
       " 'from_json',\n",
       " 'get',\n",
       " 'get_item',\n",
       " 'get_private_item',\n",
       " 'group_dataset',\n",
       " 'indent_chars',\n",
       " 'is_decompressed',\n",
       " 'is_implicit_VR',\n",
       " 'is_little_endian',\n",
       " 'is_original_encoding',\n",
       " 'is_undefined_length_sequence_item',\n",
       " 'items',\n",
       " 'iterall',\n",
       " 'keys',\n",
       " 'original_character_set',\n",
       " 'original_encoding',\n",
       " 'overlay_array',\n",
       " 'pixel_array',\n",
       " 'pixel_array_options',\n",
       " 'pop',\n",
       " 'popitem',\n",
       " 'private_block',\n",
       " 'private_creators',\n",
       " 'read_encoding',\n",
       " 'read_implicit_vr',\n",
       " 'read_little_endian',\n",
       " 'remove_private_tags',\n",
       " 'save_as',\n",
       " 'seq_item_tell',\n",
       " 'set_original_encoding',\n",
       " 'set_pixel_data',\n",
       " 'setdefault',\n",
       " 'to_json',\n",
       " 'to_json_dict',\n",
       " 'top',\n",
       " 'trait_names',\n",
       " 'update',\n",
       " 'update_raw_element',\n",
       " 'values',\n",
       " 'walk',\n",
       " 'waveform_array']"
      ]
     },
     "execution_count": 43,
     "metadata": {},
     "output_type": "execute_result"
    }
   ],
   "source": [
    "dir(ds.PerFrameFunctionalGroupsSequence[0].DerivationImageSequence[0].SourceImageSequence[0])"
   ]
  },
  {
   "cell_type": "code",
   "execution_count": 47,
   "id": "a4658821",
   "metadata": {},
   "outputs": [
    {
     "data": {
      "text/plain": [
       "['DerivationImageSequence',\n",
       " 'FrameContentSequence',\n",
       " 'PlanePositionSequence',\n",
       " 'SegmentIdentificationSequence',\n",
       " '__array__',\n",
       " '__class__',\n",
       " '__contains__',\n",
       " '__delattr__',\n",
       " '__delitem__',\n",
       " '__dict__',\n",
       " '__dir__',\n",
       " '__doc__',\n",
       " '__enter__',\n",
       " '__eq__',\n",
       " '__exit__',\n",
       " '__format__',\n",
       " '__ge__',\n",
       " '__getattr__',\n",
       " '__getattribute__',\n",
       " '__getitem__',\n",
       " '__getstate__',\n",
       " '__gt__',\n",
       " '__hash__',\n",
       " '__init__',\n",
       " '__init_subclass__',\n",
       " '__iter__',\n",
       " '__le__',\n",
       " '__len__',\n",
       " '__lt__',\n",
       " '__module__',\n",
       " '__ne__',\n",
       " '__new__',\n",
       " '__reduce__',\n",
       " '__reduce_ex__',\n",
       " '__repr__',\n",
       " '__setattr__',\n",
       " '__setitem__',\n",
       " '__sizeof__',\n",
       " '__str__',\n",
       " '__subclasshook__',\n",
       " '__weakref__',\n",
       " '_character_set',\n",
       " '_convert_pixel_data_using_handler',\n",
       " '_convert_pixel_data_without_handler',\n",
       " '_dataset_slice',\n",
       " '_dict',\n",
       " '_do_pixel_data_conversion',\n",
       " '_is_implicit_VR',\n",
       " '_is_little_endian',\n",
       " '_parent_encoding',\n",
       " '_pixel_array',\n",
       " '_pixel_array_opts',\n",
       " '_pixel_id',\n",
       " '_pixel_rep',\n",
       " '_pretty_str',\n",
       " '_private_blocks',\n",
       " '_read_charset',\n",
       " '_read_implicit',\n",
       " '_read_little',\n",
       " '_set_file_meta',\n",
       " '_set_pixel_representation',\n",
       " '_slice_dataset',\n",
       " 'add',\n",
       " 'add_new',\n",
       " 'add_new_private',\n",
       " 'clear',\n",
       " 'compress',\n",
       " 'convert_pixel_data',\n",
       " 'copy',\n",
       " 'data_element',\n",
       " 'decode',\n",
       " 'decompress',\n",
       " 'default_element_format',\n",
       " 'default_sequence_element_format',\n",
       " 'dir',\n",
       " 'elements',\n",
       " 'ensure_file_meta',\n",
       " 'file_tell',\n",
       " 'formatted_lines',\n",
       " 'from_json',\n",
       " 'get',\n",
       " 'get_item',\n",
       " 'get_private_item',\n",
       " 'group_dataset',\n",
       " 'indent_chars',\n",
       " 'is_decompressed',\n",
       " 'is_implicit_VR',\n",
       " 'is_little_endian',\n",
       " 'is_original_encoding',\n",
       " 'is_undefined_length_sequence_item',\n",
       " 'items',\n",
       " 'iterall',\n",
       " 'keys',\n",
       " 'original_character_set',\n",
       " 'original_encoding',\n",
       " 'overlay_array',\n",
       " 'pixel_array',\n",
       " 'pixel_array_options',\n",
       " 'pop',\n",
       " 'popitem',\n",
       " 'private_block',\n",
       " 'private_creators',\n",
       " 'read_encoding',\n",
       " 'read_implicit_vr',\n",
       " 'read_little_endian',\n",
       " 'remove_private_tags',\n",
       " 'save_as',\n",
       " 'seq_item_tell',\n",
       " 'set_original_encoding',\n",
       " 'set_pixel_data',\n",
       " 'setdefault',\n",
       " 'to_json',\n",
       " 'to_json_dict',\n",
       " 'top',\n",
       " 'trait_names',\n",
       " 'update',\n",
       " 'update_raw_element',\n",
       " 'values',\n",
       " 'walk',\n",
       " 'waveform_array']"
      ]
     },
     "execution_count": 47,
     "metadata": {},
     "output_type": "execute_result"
    }
   ],
   "source": [
    "dir(ds.PerFrameFunctionalGroupsSequence[0])"
   ]
  },
  {
   "cell_type": "code",
   "execution_count": 51,
   "id": "efdbe17d",
   "metadata": {},
   "outputs": [
    {
     "data": {
      "text/plain": [
       "(0008,9124)  Derivation Image Sequence  1 item(s) ---- \n",
       "   (0008,2112)  Source Image Sequence  1 item(s) ---- \n",
       "      (0008,1150) Referenced SOP Class UID            UI: CT Image Storage\n",
       "      (0008,1155) Referenced SOP Instance UID         UI: 1.2.840.113704.1.111.3956.1410855854.4865\n",
       "      (0008,1160) Referenced Frame Number             IS: '27'\n",
       "      (0028,135A) Spatial Locations Preserved         CS: 'YES'\n",
       "      (0040,A170)  Purpose of Reference Code Sequence  1 item(s) ---- \n",
       "         (0008,0100) Code Value                          SH: '121322'\n",
       "         (0008,0102) Coding Scheme Designator            SH: 'DCM'\n",
       "         (0008,0104) Code Meaning                        LO: 'Source image for image processing operation'\n",
       "         ---------\n",
       "      ---------\n",
       "   (0008,9215)  Derivation Code Sequence  1 item(s) ---- \n",
       "      (0008,0100) Code Value                          SH: '113076'\n",
       "      (0008,0102) Coding Scheme Designator            SH: 'DCM'\n",
       "      (0008,0104) Code Meaning                        LO: 'Segmentation'\n",
       "      ---------\n",
       "   ---------\n",
       "(0020,9111)  Frame Content Sequence  1 item(s) ---- \n",
       "   (0020,9157) Dimension Index Values              UL: [1, 24]\n",
       "   ---------\n",
       "(0020,9113)  Plane Position Sequence  1 item(s) ---- \n",
       "   (0020,0032) Image Position (Patient)            DS: [-215.5, -110.5, 911]\n",
       "   ---------\n",
       "(0062,000A)  Segment Identification Sequence  1 item(s) ---- \n",
       "   (0062,000B) Referenced Segment Number           US: 1\n",
       "   ---------"
      ]
     },
     "execution_count": 51,
     "metadata": {},
     "output_type": "execute_result"
    }
   ],
   "source": [
    "ds.PerFrameFunctionalGroupsSequence[-1]"
   ]
  },
  {
   "cell_type": "code",
   "execution_count": 44,
   "id": "7c041b6d",
   "metadata": {},
   "outputs": [
    {
     "data": {
      "text/plain": [
       "'65'"
      ]
     },
     "execution_count": 44,
     "metadata": {},
     "output_type": "execute_result"
    }
   ],
   "source": [
    "ds.PerFrameFunctionalGroupsSequence[0].DerivationImageSequence[0].SourceImageSequence[0].ReferencedFrameNumber"
   ]
  },
  {
   "cell_type": "code",
   "execution_count": 52,
   "id": "115c4f79",
   "metadata": {},
   "outputs": [
    {
     "data": {
      "text/plain": [
       "'27'"
      ]
     },
     "execution_count": 52,
     "metadata": {},
     "output_type": "execute_result"
    }
   ],
   "source": [
    "ds.PerFrameFunctionalGroupsSequence[-1].DerivationImageSequence[0].SourceImageSequence[0].ReferencedFrameNumber"
   ]
  },
  {
   "cell_type": "code",
   "execution_count": 30,
   "id": "67a04d4f",
   "metadata": {},
   "outputs": [
    {
     "data": {
      "text/plain": [
       "(0062,0003)  Segmented Property Category Code Sequence  1 item(s) ---- \n",
       "   (0008,0100) Code Value                          SH: '49755003'\n",
       "   (0008,0102) Coding Scheme Designator            SH: 'SCT'\n",
       "   (0008,0104) Code Meaning                        LO: 'Morphologically Abnormal Structure'\n",
       "   ---------\n",
       "(0062,0004) Segment Number                      US: 1\n",
       "(0062,0005) Segment Label                       LO: 'Tumor'\n",
       "(0062,0008) Segment Algorithm Type              CS: 'MANUAL'\n",
       "(0062,000D) Recommended Display CIELab Value    US: [34886, 53484, 50172]\n",
       "(0062,000F)  Segmented Property Type Code Sequence  1 item(s) ---- \n",
       "   (0008,0100) Code Value                          SH: '108369006'\n",
       "   (0008,0102) Coding Scheme Designator            SH: 'SCT'\n",
       "   (0008,0104) Code Meaning                        LO: 'tumor'\n",
       "   ---------"
      ]
     },
     "execution_count": 30,
     "metadata": {},
     "output_type": "execute_result"
    }
   ],
   "source": [
    "ds.SegmentSequence[0]"
   ]
  },
  {
   "cell_type": "code",
   "execution_count": 27,
   "id": "6af2e0a9",
   "metadata": {},
   "outputs": [
    {
     "data": {
      "text/plain": [
       "(0008,1150) Referenced SOP Class UID            UI: CT Image Storage\n",
       "(0008,1155) Referenced SOP Instance UID         UI: 1.2.840.113704.1.111.3956.1410855854.4866"
      ]
     },
     "execution_count": 27,
     "metadata": {},
     "output_type": "execute_result"
    }
   ],
   "source": [
    "ds.SourceImageSequence[1]"
   ]
  }
 ],
 "metadata": {
  "kernelspec": {
   "display_name": "venv_musi",
   "language": "python",
   "name": "python3"
  },
  "language_info": {
   "codemirror_mode": {
    "name": "ipython",
    "version": 3
   },
   "file_extension": ".py",
   "mimetype": "text/x-python",
   "name": "python",
   "nbconvert_exporter": "python",
   "pygments_lexer": "ipython3",
   "version": "3.11.10"
  }
 },
 "nbformat": 4,
 "nbformat_minor": 5
}
